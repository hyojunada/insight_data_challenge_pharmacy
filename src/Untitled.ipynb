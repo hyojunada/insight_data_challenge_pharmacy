{
 "cells": [
  {
   "cell_type": "code",
   "execution_count": 5,
   "metadata": {},
   "outputs": [],
   "source": [
    "filename = '../insight_testsuite/tests/test_1/input/itcont.txt'\n",
    "with open(filename) as f:\n",
    "    data = f.readlines()"
   ]
  },
  {
   "cell_type": "code",
   "execution_count": 31,
   "metadata": {},
   "outputs": [],
   "source": [
    "drug_cost = {}\n",
    "drug_pres = {}\n",
    "drug_names = []\n",
    "for l in data:\n",
    "    line = l.strip('\\n').split(',')\n",
    "    i, lname, fname, dname, cost = line\n",
    "    if i != 'id':\n",
    "        if dname not in drug_names:\n",
    "            drug_cost[dname] = int(cost)\n",
    "            drug_pres[dname] = 1\n",
    "            drug_names.append(dname)\n",
    "        else:\n",
    "            drug_cost[dname] += int(cost)\n",
    "            drug_pres[dname] += 1"
   ]
  },
  {
   "cell_type": "code",
   "execution_count": 32,
   "metadata": {},
   "outputs": [
    {
     "data": {
      "text/plain": [
       "{'AMBIEN': 300, 'BENZTROPINE MESYLATE': 1500, 'CHLORPROMAZINE': 3000}"
      ]
     },
     "execution_count": 32,
     "metadata": {},
     "output_type": "execute_result"
    }
   ],
   "source": [
    "drug_cost"
   ]
  },
  {
   "cell_type": "code",
   "execution_count": 33,
   "metadata": {
    "collapsed": true
   },
   "outputs": [],
   "source": [
    "sorted_by_value = sorted(drug_cost.items(), key=lambda kv: kv[1], reverse=True)"
   ]
  },
  {
   "cell_type": "code",
   "execution_count": 34,
   "metadata": {},
   "outputs": [],
   "source": [
    "output = [['drug_name','num_prescriber','total_cost']]\n",
    "for d, cost in sorted_by_value:\n",
    "    output.append([d, str(drug_pres[d]), str(cost)])"
   ]
  },
  {
   "cell_type": "code",
   "execution_count": 35,
   "metadata": {},
   "outputs": [],
   "source": [
    "\n",
    "with open('../insight_testsuite/tests/test_1/output/top_cost_drug_2.txt', 'w') as outfile:\n",
    "    for l in output:\n",
    "        outfile.write(', '.join(l)+'\\n')"
   ]
  },
  {
   "cell_type": "code",
   "execution_count": 30,
   "metadata": {},
   "outputs": [
    {
     "data": {
      "text/plain": [
       "['CHLORPROMAZINE', 2, 3000]"
      ]
     },
     "execution_count": 30,
     "metadata": {},
     "output_type": "execute_result"
    }
   ],
   "source": []
  },
  {
   "cell_type": "code",
   "execution_count": null,
   "metadata": {
    "collapsed": true
   },
   "outputs": [],
   "source": []
  }
 ],
 "metadata": {
  "kernelspec": {
   "display_name": "Python 3",
   "language": "python",
   "name": "python3"
  },
  "language_info": {
   "codemirror_mode": {
    "name": "ipython",
    "version": 3
   },
   "file_extension": ".py",
   "mimetype": "text/x-python",
   "name": "python",
   "nbconvert_exporter": "python",
   "pygments_lexer": "ipython3",
   "version": "3.6.2"
  }
 },
 "nbformat": 4,
 "nbformat_minor": 2
}
